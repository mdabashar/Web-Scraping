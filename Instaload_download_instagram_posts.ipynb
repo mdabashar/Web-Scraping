{
 "cells": [
  {
   "cell_type": "markdown",
   "metadata": {},
   "source": [
    "# Instaload: Download instagram posts"
   ]
  },
  {
   "cell_type": "code",
   "execution_count": 1,
   "metadata": {},
   "outputs": [
    {
     "name": "stderr",
     "output_type": "stream",
     "text": [
      "C:\\Users\\User\\anaconda3\\lib\\site-packages\\win_unicode_console\\__init__.py:31: RuntimeWarning: sys.stdin.encoding == 'cp1252', whereas sys.stdout.encoding == 'UTF-8', readline hook consumer may assume they are the same\n",
      "  readline_hook.enable(use_pyreadline=use_pyreadline)\n"
     ]
    },
    {
     "name": "stdout",
     "output_type": "stream",
     "text": [
      "<class 'instaloader.structures.Profile'>\n"
     ]
    }
   ],
   "source": [
    "# Import the module\n",
    "import instaloader\n",
    "\n",
    "# Create an instance of Instaloader class\n",
    "bot = instaloader.Instaloader()\n",
    "\n",
    "# Load a profile from an Instagram handle\n",
    "profile = instaloader.Profile.from_username(bot.context, 'python_scripts')\n",
    "\n",
    "print(type(profile))"
   ]
  },
  {
   "cell_type": "code",
   "execution_count": 2,
   "metadata": {},
   "outputs": [],
   "source": [
    "# Login with username and password in the script\n",
    "# bot.login('username', 'password')\n",
    "\n",
    "# Interactive login on terminal\n",
    "#bot.interactive_login(USER) # Asks for password in the terminal"
   ]
  },
  {
   "cell_type": "code",
   "execution_count": 3,
   "metadata": {},
   "outputs": [],
   "source": [
    "# Retrieve the usernames of all followers\n",
    "#followers = [follower.username for follower in profile.get_followers()]\n",
    "\n",
    "# Retrieve the usernames of all followees\n",
    "#followees = [followee.username for followee in profile.get_followees()]"
   ]
  },
  {
   "cell_type": "code",
   "execution_count": null,
   "metadata": {},
   "outputs": [],
   "source": [
    "# for follower in profile.get_followers():\n",
    "#     print(follower.username)\n",
    "#     break"
   ]
  },
  {
   "cell_type": "code",
   "execution_count": null,
   "metadata": {},
   "outputs": [],
   "source": [
    "# followers"
   ]
  },
  {
   "cell_type": "markdown",
   "metadata": {},
   "source": [
    "### Load posts for a new profile"
   ]
  },
  {
   "cell_type": "code",
   "execution_count": 5,
   "metadata": {},
   "outputs": [
    {
     "name": "stdout",
     "output_type": "stream",
     "text": [
      "towardsdatascience_1\\2021-05-21_21-06-10_UTC.jpg [Measuring “Fairness” When Age…] json \n"
     ]
    }
   ],
   "source": [
    "profile = instaloader.Profile.from_username(bot.context, 'towardsdatascience')\n",
    "\n",
    "# Get all posts in a generator object\n",
    "posts = profile.get_posts()\n",
    "\n",
    "# Iterate and download\n",
    "for index, post in enumerate(posts, 1):\n",
    "    bot.download_post(post, target=f\"{profile.username}_{index}\")\n",
    "    if index>1:\n",
    "        break"
   ]
  },
  {
   "cell_type": "markdown",
   "metadata": {},
   "source": [
    "### Load Posts for a hashtag"
   ]
  },
  {
   "cell_type": "code",
   "execution_count": 8,
   "metadata": {},
   "outputs": [
    {
     "name": "stdout",
     "output_type": "stream",
     "text": [
      "humanbones_1\\2021-05-24_02-53-05_UTC.jpg [The human jaw bone makes an e…] json \n",
      "humanbones_2\\2021-05-23_15-54-39_UTC.jpg [Can you spot the bone? Bonus …] json \n",
      "humanbones_3\\2021-05-23_15-54-18_UTC.jpg [I've finished a few human ver…] json \n",
      "humanbones_4\\2021-05-22_19-08-36_UTC.jpg [My antique glasses fit so per…] json \n",
      "humanbones_5\\2021-05-22_19-00-46_UTC.jpg [Friend #skull #cranium #human…] json \n",
      "humanbones_6\\2021-05-22_18-11-28_UTC_1.jpg humanbones_6\\2021-05-22_18-11-28_UTC_2.jpg humanbones_6\\2021-05-22_18-11-28_UTC_3.jpg [SOLD : Antique Human Sacrum w…] json \n",
      "humanbones_7\\2021-05-22_11-17-10_UTC.jpg [Caption Contest! Lets see who…] json \n",
      "humanbones_8\\2021-05-22_10-05-15_UTC.jpg [\"﻿Life is a web of endless po…] json \n",
      "humanbones_9\\2021-05-22_02-09-45_UTC_1.jpg humanbones_9\\2021-05-22_02-09-45_UTC_2.jpg humanbones_9\\2021-05-22_02-09-45_UTC_3.jpg humanbones_9\\2021-05-22_02-09-45_UTC_4.jpg humanbones_9\\2021-05-22_02-09-45_UTC_4.mp4 [SWIPE FOR VIDEO... #kukri ins…] json \n",
      "humanbones_10\\2021-05-21_21-36-41_UTC.jpg [“Fine strength “  I got inspi…] json \n",
      "humanbones_11\\2021-05-21_17-53-37_UTC.jpg [Another Creation by Darkjewel…] json \n"
     ]
    }
   ],
   "source": [
    "\n",
    "hashtag = instaloader.Hashtag.from_name(bot.context, 'humanbones')\n",
    "\n",
    "# Load posts with `python` tag into a generator object\n",
    "python_posts = hashtag.get_posts()\n",
    "\n",
    "# Iterate over posts to download them\n",
    "for index, post in enumerate(python_posts, 1):\n",
    "    bot.download_post(post, target=f'{hashtag.name}_{index}')\n",
    "    if index>10:\n",
    "        break"
   ]
  },
  {
   "cell_type": "markdown",
   "metadata": {},
   "source": [
    "### Besides, we may want to download only the top posts of a hashtag."
   ]
  },
  {
   "cell_type": "code",
   "execution_count": 9,
   "metadata": {},
   "outputs": [
    {
     "name": "stdout",
     "output_type": "stream",
     "text": [
      "humanbones_1\\2020-11-25_14-17-37_UTC.jpg [Probably the most exciting mo…] json \n",
      "humanbones_2\\2021-04-25_03-05-23_UTC.jpg [The mindset behind my work re…] json \n",
      "humanbones_3\\2021-04-30_17-04-42_UTC.jpg [New skull 🖤 NFS #humanskull #…] json \n",
      "humanbones_4\\2020-12-03_20-31-26_UTC.jpg [Asmat dagger made from human …] json \n",
      "humanbones_5\\2021-03-15_20-21-57_UTC.jpg [Working on a new series of in…] json \n",
      "humanbones_6\\2021-02-20_21-10-00_UTC.jpg [𝕸𝖆𝖈𝖆𝖇𝖗𝖊 𝕯𝖗𝖊𝖆𝖒𝖘 🫀🌛] json \n",
      "humanbones_7\\2021-03-27_22-59-36_UTC.jpg [Archeological child skull wit…] json \n",
      "humanbones_8\\2021-04-28_10-05-15_UTC.jpg [“Life can only be understood …] json \n"
     ]
    }
   ],
   "source": [
    "def tops_posts_from_hashtag(hashtag_name: str, max_count: int):\n",
    "    \"\"\"\n",
    "    A function that downloads top {max_count} posts from a hashtag\n",
    "    \"\"\"\n",
    "    # Load the hashtag object into a variable\n",
    "    hashtag = instaloader.Hashtag.from_name(bot.context, hashtag_name)\n",
    "    # Get top posts in a generator\n",
    "    posts = hashtag.get_top_posts()\n",
    "    for index in range(1, max_count + 1):\n",
    "        try:\n",
    "            # Download the post\n",
    "            bot.download_post(next(posts), target=f'{hashtag_name}_{index}')\n",
    "        except:\n",
    "            break # If there are any errors, we break out of the loop\n",
    "            \n",
    "tops_posts_from_hashtag(hashtag_name='humanbones', max_count=10)"
   ]
  }
 ],
 "metadata": {
  "kernelspec": {
   "display_name": "Python 3",
   "language": "python",
   "name": "python3"
  },
  "language_info": {
   "codemirror_mode": {
    "name": "ipython",
    "version": 3
   },
   "file_extension": ".py",
   "mimetype": "text/x-python",
   "name": "python",
   "nbconvert_exporter": "python",
   "pygments_lexer": "ipython3",
   "version": "3.8.5"
  }
 },
 "nbformat": 4,
 "nbformat_minor": 4
}
