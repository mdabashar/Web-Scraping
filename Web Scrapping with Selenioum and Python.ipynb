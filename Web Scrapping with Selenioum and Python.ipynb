{
 "cells": [
  {
   "cell_type": "markdown",
   "metadata": {},
   "source": [
    "# Web Scraping using Selenium and Python\n",
    "\n",
    "Selenium refers to a number of different open-source projects used for browser automation. It supports bindings for all major programming languages, including Python."
   ]
  },
  {
   "cell_type": "markdown",
   "metadata": {},
   "source": [
    "### Installation\n",
    "\n",
    "We will use Chrome in our example, so make sure you have it installed on your local machine:\n",
    "\n",
    "1. Chrome download page\n",
    "2. Chrome driver binary\n",
    "3. selenium package"
   ]
  },
  {
   "cell_type": "code",
   "execution_count": null,
   "metadata": {},
   "outputs": [],
   "source": [
    "#! pip install selenium"
   ]
  },
  {
   "cell_type": "markdown",
   "metadata": {},
   "source": [
    "### Include Libraries"
   ]
  },
  {
   "cell_type": "code",
   "execution_count": 1,
   "metadata": {},
   "outputs": [],
   "source": [
    "from selenium import webdriver\n",
    "from selenium.webdriver.chrome.options import Options"
   ]
  },
  {
   "cell_type": "code",
   "execution_count": 2,
   "metadata": {},
   "outputs": [],
   "source": [
    "options = Options()\n",
    "# options.headless = True\n",
    "# options.add_argument(\"--window-size=1920,1200\")\n",
    "\n",
    "DRIVER_PATH = 'chromedriver_win32\\\\chromedriver.exe'\n",
    "driver = webdriver.Chrome(options=options, executable_path=DRIVER_PATH)\n",
    "\n",
    "driver.get(\"https://trove.nla.gov.au/search?keyword=skull\")"
   ]
  },
  {
   "cell_type": "code",
   "execution_count": 3,
   "metadata": {},
   "outputs": [],
   "source": [
    "popup = driver.switch_to.active_element\n",
    "popup.find_element_by_xpath('//*[@id=\"culturalModal___BV_modal_footer_\"]/div/div/div[2]/button').click()"
   ]
  },
  {
   "cell_type": "markdown",
   "metadata": {},
   "source": [
    "### XPath\n",
    "\n",
    "XPath is a technology that uses path expressions to select nodes or node- sets in an XML document (or HTML document).\n",
    "\n",
    "Imagine we want to extract all of the links.\n",
    "\n",
    "So, we will use one simple XPath expression: //a. And we will use LXML to run it. LXML is a fast and easy to use XML and HTML processing library that supports XPATH."
   ]
  },
  {
   "cell_type": "code",
   "execution_count": null,
   "metadata": {},
   "outputs": [],
   "source": [
    "# ! pip install lxml"
   ]
  },
  {
   "cell_type": "code",
   "execution_count": 4,
   "metadata": {},
   "outputs": [],
   "source": [
    "from selenium.webdriver.support import expected_conditions\n",
    "from selenium.webdriver.common.by import By\n",
    "from selenium.webdriver.support.ui import WebDriverWait\n",
    "\n",
    "topics_xpath = '/html/body/div/div[1]/div[4]/div[1]/div[4]/div/section[1]/div[4]/div/a'\n",
    "WebDriverWait(driver, 10).until(expected_conditions.visibility_of_element_located((By.XPATH, topics_xpath)))\n",
    "elem = driver.find_element_by_xpath(topics_xpath)\n",
    "driver.execute_script(\"arguments[0].scrollIntoView(true);\", elem)\n",
    "driver.find_element_by_xpath(topics_xpath).click()"
   ]
  },
  {
   "cell_type": "code",
   "execution_count": null,
   "metadata": {},
   "outputs": [],
   "source": []
  },
  {
   "cell_type": "code",
   "execution_count": 5,
   "metadata": {},
   "outputs": [],
   "source": [
    "link_xpath = '/html/body/div/div[1]/div[4]/div[1]/div[4]/div[1]/section/div[3]/div[1]/div/div[2]/div[1]/h3/a'\n",
    "WebDriverWait(driver, 10).until(expected_conditions.visibility_of_element_located((By.XPATH, link_xpath)))\n",
    "elem = driver.find_element_by_xpath(link_xpath)\n",
    "driver.execute_script(\"arguments[0].scrollIntoView(true);\", elem)\n",
    "elem.click()"
   ]
  },
  {
   "cell_type": "code",
   "execution_count": null,
   "metadata": {},
   "outputs": [],
   "source": []
  },
  {
   "cell_type": "code",
   "execution_count": 6,
   "metadata": {},
   "outputs": [],
   "source": [
    "text_xpath = '//*[@id=\"ui-layout-text\"]/div[2]'\n",
    "WebDriverWait(driver, 10).until(expected_conditions.visibility_of_element_located((By.XPATH, text_xpath)))\n",
    "elem = driver.find_element_by_xpath(text_xpath)\n",
    "driver.execute_script(\"arguments[0].scrollIntoView(true);\", elem)"
   ]
  },
  {
   "cell_type": "code",
   "execution_count": 7,
   "metadata": {},
   "outputs": [
    {
     "data": {
      "text/plain": [
       "'A FRACTURED SKULL.\\nA man named Hay, lodging at No. 9 Mar-\\ngaret-street, walked out of his bedroom win-\\ndow last night on to the roof, and fell a dis-\\ntance of about 20 feet. He was conveyed to\\nSydney Hospital by the Civil Ambulance, and\\nadmitted suffering from a fractured skull.'"
      ]
     },
     "execution_count": 7,
     "metadata": {},
     "output_type": "execute_result"
    }
   ],
   "source": [
    "elem.text"
   ]
  },
  {
   "cell_type": "code",
   "execution_count": null,
   "metadata": {},
   "outputs": [],
   "source": []
  },
  {
   "cell_type": "code",
   "execution_count": null,
   "metadata": {},
   "outputs": [],
   "source": []
  },
  {
   "cell_type": "code",
   "execution_count": null,
   "metadata": {},
   "outputs": [],
   "source": [
    "# driver.quit()"
   ]
  },
  {
   "cell_type": "code",
   "execution_count": null,
   "metadata": {},
   "outputs": [],
   "source": []
  },
  {
   "cell_type": "markdown",
   "metadata": {},
   "source": [
    "References:\n",
    "\n",
    "https://www.scrapingbee.com/blog/selenium-python/\n",
    "\n",
    "https://www.scrapingbee.com/blog/web-scraping-101-with-python/"
   ]
  }
 ],
 "metadata": {
  "kernelspec": {
   "display_name": "Python 3",
   "language": "python",
   "name": "python3"
  },
  "language_info": {
   "codemirror_mode": {
    "name": "ipython",
    "version": 3
   },
   "file_extension": ".py",
   "mimetype": "text/x-python",
   "name": "python",
   "nbconvert_exporter": "python",
   "pygments_lexer": "ipython3",
   "version": "3.8.5"
  }
 },
 "nbformat": 4,
 "nbformat_minor": 4
}
